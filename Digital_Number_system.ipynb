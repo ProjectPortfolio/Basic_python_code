{
 "cells": [
  {
   "cell_type": "code",
   "execution_count": 1,
   "metadata": {},
   "outputs": [
    {
     "name": "stdout",
     "output_type": "stream",
     "text": [
      "------------------Decimal to Binary-----------------------\n",
      "Enter number to be convert into binary:   1100\n",
      "10001001100\n"
     ]
    }
   ],
   "source": [
    "print(\"------------------Decimal to Binary-----------------------\")\n",
    "def convert_to_binary(n):\n",
    "    if n>1:\n",
    "        convert_to_binary(n//2)\n",
    "    print(n%2,end='')\n",
    "\n",
    "dec = int(input(\"Enter number to be convert into binary:   \"))\n",
    "convert_to_binary(dec)\n",
    "print()"
   ]
  },
  {
   "cell_type": "code",
   "execution_count": 2,
   "metadata": {},
   "outputs": [
    {
     "name": "stdout",
     "output_type": "stream",
     "text": [
      "------------------Binary to Decimal-----------------------\n",
      "Enter number in binary :  10101\n",
      "Number in decimal is  21\n"
     ]
    }
   ],
   "source": [
    "print(\"------------------Binary to Decimal-----------------------\")\n",
    "binary_number = list(input(\"Enter number in binary :  \"))\n",
    "value = 0\n",
    "for i in range(len(binary_number)):\n",
    "    digit = binary_number.pop()\n",
    "    if digit == '1':\n",
    "        value = value + pow(2,i)\n",
    "\n",
    "print(\"Number in decimal is \",value)"
   ]
  },
  {
   "cell_type": "code",
   "execution_count": 3,
   "metadata": {},
   "outputs": [
    {
     "name": "stdout",
     "output_type": "stream",
     "text": [
      "------------------Decimal to Octal-----------------------\n",
      "Enter a decimal number :345\n",
      "The octal equivalent is : 531\n"
     ]
    }
   ],
   "source": [
    "print(\"------------------Decimal to Octal-----------------------\")\n",
    "decimal = int(input(\"Enter a decimal number :\"))\n",
    "\n",
    "\n",
    "def decimal_to_octal(decimal):\n",
    "    octal = 0\n",
    "    i = 1\n",
    "    while (decimal != 0):\n",
    "        octal = octal + (decimal % 8) * i\n",
    "        decimal = int(decimal / 8)\n",
    "        i = i * 10\n",
    "    return octal\n",
    "\n",
    "print(\"The octal equivalent is :\",decimal_to_octal(decimal))"
   ]
  },
  {
   "cell_type": "code",
   "execution_count": 4,
   "metadata": {},
   "outputs": [
    {
     "name": "stdout",
     "output_type": "stream",
     "text": [
      "--------------------Anybase to decimal---------------\n",
      "enter number of anybase:  1B\n",
      "Enter any base in 8,16,2: 16\n",
      "Decimal equivalent of 1B in base 16 is 27\n"
     ]
    }
   ],
   "source": [
    "print(\"--------------------Anybase to decimal---------------\")\n",
    "def val(c): \n",
    "    if c >= '0' and c <= '9': \n",
    "        return ord(c) - ord('0') \n",
    "    else: \n",
    "        return ord(c) - ord('A') + 10; \n",
    "def toDeci(str,base): \n",
    "    llen = len(str) \n",
    "    power = 1 #Initialize power of base \n",
    "    num = 0     #Initialize result \n",
    "  \n",
    "    # Decimal equivalent is str[len-1]*1 +  \n",
    "    # str[len-1]*base + str[len-1]*(base^2) + ...  \n",
    "    for i in range(llen - 1, -1, -1): \n",
    "          \n",
    "        # A digit in input number must  \n",
    "        # be less than number's base  \n",
    "        if val(str[i]) >= base: \n",
    "            print('Invalid Number') \n",
    "            return -1\n",
    "        num += val(str[i]) * power \n",
    "        power = power * base \n",
    "    return num \n",
    "\n",
    "strr = input(\"enter number of anybase:  \")\n",
    "base = int(input(\"Enter any base in 8,16,2: \"))\n",
    "print('Decimal equivalent of', strr,  \n",
    "              'in base', base, 'is',  \n",
    "                 toDeci(strr, base)) "
   ]
  },
  {
   "cell_type": "code",
   "execution_count": 5,
   "metadata": {},
   "outputs": [
    {
     "name": "stdout",
     "output_type": "stream",
     "text": [
      "--------------decimal to anybase ------------\n",
      "234\n",
      "Base (2-9): 8\n",
      "352\n",
      "455\n",
      "Base (2-9): 2\n",
      "111000111\n"
     ]
    }
   ],
   "source": [
    "print(\"--------------decimal to anybase ------------\")\n",
    "num = int(input())\n",
    "base = int(input(\"Base (2-9): \"))\n",
    "if not(2 <= base <= 9):\n",
    "    quit()\n",
    "\n",
    "newNum = ''\n",
    "\n",
    "while num > 0:\n",
    "    newNum = str(num % base) + newNum\n",
    "    num //= base\n",
    "\n",
    "print(newNum)\n",
    "\n",
    "# Entering a number and converting to an integer\n",
    "num = int(input())\n",
    "# Input of the number system\n",
    "base = int(input(\"Base (2-9): \"))\n",
    "\n",
    "# Checking the correctness of the number system.\n",
    "# If the base does not belong to the specified range,\n",
    "# then the program terminates.\n",
    "if not(2 <= base <= 9):\n",
    "    quit()\n",
    "\n",
    "# Variable for storing a string representation\n",
    "# of a number in a given number system\n",
    "newNum = ''\n",
    "\n",
    "# While the integer is greater than 0,\n",
    "while num > 0:\n",
    "    # the remainder from its division into the base is calculated,\n",
    "    # the rest is converted to the string type and added\n",
    "    # to the beginning of the string representation of the new number\n",
    "    newNum = str(num % base) + newNum\n",
    "    # The decimal number is divided on the basis\n",
    "    # of the given number system\n",
    "    num //= base\n",
    "\n",
    "# Output of the string representation of a number\n",
    "# in a given number system\n",
    "print(newNum)"
   ]
  },
  {
   "cell_type": "code",
   "execution_count": 11,
   "metadata": {},
   "outputs": [
    {
     "name": "stdout",
     "output_type": "stream",
     "text": [
      "-------------octal to binary----------------\n",
      "Enter the Octal Number: \n",
      "345\n",
      "\n",
      "Equivalent Binary Value =  011100101\n"
     ]
    }
   ],
   "source": [
    "print(\"-------------octal to binary----------------\")\n",
    "print(\"Enter the Octal Number: \")\n",
    "octnum = int(input())\n",
    "\n",
    "rev = 0\n",
    "chk = 0\n",
    "\n",
    "while octnum!=0:\n",
    "    rem = octnum%10\n",
    "    if rem>7:\n",
    "        chk = 1\n",
    "        break\n",
    "    rev = rem + (rev*10)\n",
    "    octnum = int(octnum/10)\n",
    "\n",
    "if chk == 0:\n",
    "    octnum = rev\n",
    "    binnum = \"\"\n",
    "\n",
    "    while octnum!=0:\n",
    "        rem = octnum%10\n",
    "        if rem==0:\n",
    "            binnum = binnum + \"000\"\n",
    "        elif rem==1:\n",
    "            binnum = binnum + \"001\"\n",
    "        elif rem==2:\n",
    "            binnum = binnum + \"010\"\n",
    "        elif rem==3:\n",
    "            binnum = binnum + \"011\"\n",
    "        elif rem==4:\n",
    "            binnum = binnum + \"100\"\n",
    "        elif rem==5:\n",
    "            binnum = binnum + \"101\"\n",
    "        elif rem==6:\n",
    "            binnum = binnum + \"110\"\n",
    "        elif rem==7:\n",
    "            binnum = binnum + \"111\"\n",
    "        octnum = int(octnum/10)\n",
    "\n",
    "    print(\"\\nEquivalent Binary Value = \", binnum)\n",
    "\n",
    "else:\n",
    "    print(\"\\nInvalid Input!\")"
   ]
  },
  {
   "cell_type": "code",
   "execution_count": null,
   "metadata": {},
   "outputs": [],
   "source": []
  }
 ],
 "metadata": {
  "kernelspec": {
   "display_name": "Python 3",
   "language": "python",
   "name": "python3"
  },
  "language_info": {
   "codemirror_mode": {
    "name": "ipython",
    "version": 3
   },
   "file_extension": ".py",
   "mimetype": "text/x-python",
   "name": "python",
   "nbconvert_exporter": "python",
   "pygments_lexer": "ipython3",
   "version": "3.7.4"
  }
 },
 "nbformat": 4,
 "nbformat_minor": 2
}
