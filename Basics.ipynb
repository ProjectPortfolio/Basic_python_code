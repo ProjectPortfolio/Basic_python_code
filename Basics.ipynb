{
  "nbformat": 4,
  "nbformat_minor": 0,
  "metadata": {
    "colab": {
      "name": "Basics.ipynb",
      "provenance": []
    },
    "kernelspec": {
      "name": "python3",
      "display_name": "Python 3"
    }
  },
  "cells": [
    {
      "cell_type": "code",
      "metadata": {
        "id": "PiHe6M6k-Svg"
      },
      "source": [
        ""
      ],
      "execution_count": null,
      "outputs": []
    },
    {
      "cell_type": "code",
      "metadata": {
        "colab": {
          "base_uri": "https://localhost:8080/"
        },
        "id": "NvZcigqIUWxc",
        "outputId": "4016d8f2-0855-4f05-9548-6cd5b11127a5"
      },
      "source": [
        "num = int(input(\"Enter Number :\"))"
      ],
      "execution_count": null,
      "outputs": [
        {
          "output_type": "stream",
          "text": [
            "Enter Number :234\n"
          ],
          "name": "stdout"
        }
      ]
    },
    {
      "cell_type": "code",
      "metadata": {
        "colab": {
          "base_uri": "https://localhost:8080/"
        },
        "id": "s3g_V3kiUnwn",
        "outputId": "4e399ff0-8bdf-474d-c8eb-d8a693725187"
      },
      "source": [
        "print(num)"
      ],
      "execution_count": null,
      "outputs": [
        {
          "output_type": "stream",
          "text": [
            "234\n"
          ],
          "name": "stdout"
        }
      ]
    },
    {
      "cell_type": "code",
      "metadata": {
        "colab": {
          "base_uri": "https://localhost:8080/"
        },
        "id": "343fv_GCUvPR",
        "outputId": "a558aa0b-5eda-4d3f-b308-52bc8ea58e55"
      },
      "source": [
        "print(\"1)Number is prime or not\")\n",
        "\n",
        "if num > 1:\n",
        " \n",
        "    # Iterate from 2 to n / 2\n",
        "    for i in range(2, num):\n",
        " \n",
        "        # If num is divisible by any number between\n",
        "        # 2 and n / 2, it is not prime\n",
        "        if (num % i) == 0:\n",
        "            print(num, \"is not a prime number\")\n",
        "            break\n",
        "    else:\n",
        "        print(num, \"is a prime number\")\n",
        " \n",
        "else:\n",
        "    print(num, \"is not a prime number\")"
      ],
      "execution_count": null,
      "outputs": [
        {
          "output_type": "stream",
          "text": [
            "====Number is prime or not=====\n",
            "234 is not a prime number\n"
          ],
          "name": "stdout"
        }
      ]
    },
    {
      "cell_type": "code",
      "metadata": {
        "colab": {
          "base_uri": "https://localhost:8080/"
        },
        "id": "_VvD7v-6U2Xn",
        "outputId": "0f54d0f8-5677-486b-a9d6-c632ab5e3c6f"
      },
      "source": [
        "print(\"2)print all prime number till n \")\n",
        "\n",
        "lower = 90\n",
        "upper = 200\n",
        "\n",
        "print(\"Prime numbers between\", lower, \"and\", upper, \"are:\")\n",
        "\n",
        "for j in range(lower, upper + 1):\n",
        "   # all prime numbers are greater than 1\n",
        "   if j > 1:\n",
        "       for i in range(2, j):\n",
        "           if (j % i) == 0:\n",
        "               break\n",
        "       else:\n",
        "           print(j)"
      ],
      "execution_count": null,
      "outputs": [
        {
          "output_type": "stream",
          "text": [
            "=====print all prime number till n =======\n",
            "Prime numbers between 90 and 200 are:\n",
            "97\n",
            "101\n",
            "103\n",
            "107\n",
            "109\n",
            "113\n",
            "127\n",
            "131\n",
            "137\n",
            "139\n",
            "149\n",
            "151\n",
            "157\n",
            "163\n",
            "167\n",
            "173\n",
            "179\n",
            "181\n",
            "191\n",
            "193\n",
            "197\n",
            "199\n"
          ],
          "name": "stdout"
        }
      ]
    },
    {
      "cell_type": "code",
      "metadata": {
        "colab": {
          "base_uri": "https://localhost:8080/"
        },
        "id": "yRukSEGzaDUs",
        "outputId": "c8463b50-646c-4276-e0f9-740ccca7e3b6"
      },
      "source": [
        "print(\"3)fibnaocii series\")\n",
        "nth_term = int(input(\"Enter number: \"))\n",
        "n1,n2 =0,1\n",
        "count = 0\n",
        "if nth_term <= 0 :\n",
        "  print(\"number is not valid\")\n",
        "elif nth_term == 1 :\n",
        "  print(\"Fibnoci Series till nth term\",nth_term)\n",
        "  print(n1)\n",
        "else :\n",
        "  print(\"Fibnocii series is\")\n",
        "  while count < nth_term :\n",
        "    print(n1)\n",
        "    nth = n1 + n2\n",
        "    # update values\n",
        "    n1 = n2\n",
        "    n2 = nth\n",
        "    count += 1"
      ],
      "execution_count": null,
      "outputs": [
        {
          "output_type": "stream",
          "text": [
            "=====fibnaocii series=====\n",
            "Enter number: 7\n",
            "Fibnocii series is\n",
            "0\n",
            "1\n",
            "1\n",
            "2\n",
            "3\n",
            "5\n",
            "8\n"
          ],
          "name": "stdout"
        }
      ]
    },
    {
      "cell_type": "code",
      "metadata": {
        "colab": {
          "base_uri": "https://localhost:8080/"
        },
        "id": "E3ZxEH0i2r6_",
        "outputId": "a12b20af-1ad8-4d9d-ff77-06ee8f393a93"
      },
      "source": [
        "print(\"4)Count digit in a numbber\")\n",
        "n = int(input(\"Enter the number: \"))\n",
        "count = 0\n",
        "while(n > 0):\n",
        "  n = n // 10\n",
        "  count += 1\n",
        "\n",
        "print(\"number of digit in number is :\",count)\n",
        "\n"
      ],
      "execution_count": null,
      "outputs": [
        {
          "output_type": "stream",
          "text": [
            "4)Count digit in a numbber\n",
            "Enter the number: 453\n",
            "number of digit in number is : 3\n"
          ],
          "name": "stdout"
        }
      ]
    },
    {
      "cell_type": "code",
      "metadata": {
        "colab": {
          "base_uri": "https://localhost:8080/"
        },
        "id": "JlxZyr68_Wac",
        "outputId": "bfb03422-709a-4819-886c-3596a3892888"
      },
      "source": [
        "print(\"6)Reverse of number:\")\n",
        "n = int(input(\"Enter number :\"))\n",
        "reverse = 0\n",
        " \n",
        "while(n > 0):\n",
        "    a = n % 10\n",
        "    reverse = reverse * 10 + a\n",
        "    n = n // 10\n",
        "     \n",
        "print(reverse)\n",
        " "
      ],
      "execution_count": null,
      "outputs": [
        {
          "output_type": "stream",
          "text": [
            "6)Reverse of number:\n",
            "Enter number :345\n",
            "543\n"
          ],
          "name": "stdout"
        }
      ]
    },
    {
      "cell_type": "code",
      "metadata": {
        "id": "VlpZqyoXAStP",
        "colab": {
          "base_uri": "https://localhost:8080/"
        },
        "outputId": "275e21c8-fc92-4cfe-bac0-9108575c89cf"
      },
      "source": [
        "print(\"7)Rotate of number : \")\n",
        "def num_digit(n):\n",
        "    cnt = 0\n",
        "    while n > 0: \n",
        "        cnt += 1\n",
        "        n //= 10\n",
        "    return cnt \n",
        "      \n",
        "def rotate(num):\n",
        "  digits = num_digit(num)\n",
        "  powTen = pow(10,digits-1)\n",
        "\n",
        "  for i in range(digits - 1):\n",
        "    firstDigit = num // powTen \n",
        "          \n",
        "        # formula to calculate left shift  \n",
        "        # from previous number \n",
        "    left = (num * 10 + firstDigit - (firstDigit * powTen * 10)) \n",
        "    print(left, end = \" \") \n",
        "          \n",
        "        # Update the original number \n",
        "    num = left \n",
        "\n",
        "num = int(input(\"Enter number :\"))\n",
        "rotate(num)"
      ],
      "execution_count": null,
      "outputs": [
        {
          "output_type": "stream",
          "text": [
            "7)Rotate of number : \n",
            "Enter number :456\n",
            "564 645 "
          ],
          "name": "stdout"
        }
      ]
    },
    {
      "cell_type": "code",
      "metadata": {
        "id": "QTV77vaxlkGG",
        "colab": {
          "base_uri": "https://localhost:8080/"
        },
        "outputId": "de0979d4-9dc1-4308-9617-86ee05f490f5"
      },
      "source": [
        "print(\"8)Digit Frequency\")\n",
        "def Digit_freq(n,d):\n",
        "  c = 0\n",
        "  # iterate till number \n",
        "  # reduces to zero \n",
        "  while (n > 0):\n",
        "    # check for equality \n",
        "    if n % 10 == d: \n",
        "      c += 1 \n",
        "      # reduce the number \n",
        "      n = int(n / 10)\n",
        "  return c\n",
        "  \n",
        "# Driver Code \n",
        "  \n",
        "# input number N ;\n",
        "n = int(input(\"78666number: \")) \n",
        "  \n",
        "# input digit D \n",
        "d = int(input(\"frequency of digit to be find : \"))\n",
        "  \n",
        "print(Digit_freq(n,d))\n",
        "  \n",
        "# This code is contributed by mits"
      ],
      "execution_count": null,
      "outputs": [
        {
          "output_type": "stream",
          "text": [
            "8)Digit Frequency\n",
            "Enter number: 7788965\n",
            "frequency of digit to be find : 8\n"
          ],
          "name": "stdout"
        }
      ]
    },
    {
      "cell_type": "code",
      "metadata": {
        "id": "UsBM7x8-Iczp",
        "colab": {
          "base_uri": "https://localhost:8080/"
        },
        "outputId": "98e2ac5e-0487-408c-a402-44c011fe8fab"
      },
      "source": [
        "print(\"9)LCM and GCD \")\n",
        "def compute_lcm(x, y):\n",
        "\n",
        "   # choose the greater number\n",
        "   if x > y:\n",
        "       greater = x\n",
        "   else:\n",
        "       greater = y\n",
        "\n",
        "   while(True):\n",
        "       if((greater % x == 0) and (greater % y == 0)):\n",
        "           lcm = greater\n",
        "           break\n",
        "       greater += 1\n",
        "\n",
        "   return lcm\n",
        "\n",
        "num1 = int(input(\"Enter number 1:  \"))\n",
        "num2 = int(input(\"Enter number 2:  \"))\n",
        "\n",
        "print(\"The L.C.M. is\", compute_lcm(num1, num2))"
      ],
      "execution_count": null,
      "outputs": [
        {
          "output_type": "stream",
          "text": [
            "Enter number 1:  34\n",
            "Enter number 2:  23\n",
            "The L.C.M. is 782\n"
          ],
          "name": "stdout"
        }
      ]
    },
    {
      "cell_type": "code",
      "metadata": {
        "colab": {
          "base_uri": "https://localhost:8080/"
        },
        "id": "JyChNtMt-C54",
        "outputId": "fa2b85bb-6cea-4b57-d3e7-4b3f06908764"
      },
      "source": [
        "print(\"10)GCD \")\n",
        "def GCD(x, y):\n",
        "# choose the smaller number\n",
        "    if x > y:\n",
        "        smaller = y\n",
        "    else:\n",
        "        smaller = x\n",
        "    for i in range(1, smaller+1):\n",
        "        if((x % i == 0) and (y % i == 0)):\n",
        "            hcf = i \n",
        "    return hcf\n",
        "\n",
        "num1 = int(input(\"Enter number 1:  \"))\n",
        "num2 = int(input(\"Enter number 2:  \"))\n",
        "\n",
        "\n",
        "print(\"The H.C.F. is\", GCD(num1, num2))"
      ],
      "execution_count": null,
      "outputs": [
        {
          "output_type": "stream",
          "text": [
            "10)GCD \n",
            "Enter number 1:  76\n",
            "Enter number 2:  67\n",
            "The H.C.F. is 1\n"
          ],
          "name": "stdout"
        }
      ]
    },
    {
      "cell_type": "code",
      "metadata": {
        "colab": {
          "base_uri": "https://localhost:8080/"
        },
        "id": "wVWleFen-qbu",
        "outputId": "ce4214aa-8adc-436e-95cd-251814142586"
      },
      "source": [
        "print(\"11)Prime Factorization\")\n",
        "def prime_factors(n): \n",
        "    factors = [] \n",
        "    if n > 1: \n",
        "        i = 2 \n",
        "        while n % i != 0: \n",
        "            i += 1 \n",
        "        factors.append(i) \n",
        "        factors.extend(prime_factors(n / i)) \n",
        "    return factors \n",
        "\n",
        "print(prime_factors(int(input(\"enter num: \"))))"
      ],
      "execution_count": null,
      "outputs": [
        {
          "output_type": "stream",
          "text": [
            "enter num: 78\n",
            "[2, 3, 13]\n"
          ],
          "name": "stdout"
        }
      ]
    },
    {
      "cell_type": "code",
      "metadata": {
        "colab": {
          "base_uri": "https://localhost:8080/"
        },
        "id": "DVB8htQU_grT",
        "outputId": "f9b41171-d793-4fed-e3ee-f47354be6ca0"
      },
      "source": [
        "print(\"12)Pythagorean Triplet\")\n",
        "limit=int(input(\"Enter upper limit:\"))\n",
        "c=0\n",
        "m=2\n",
        "while(c<limit):\n",
        "    for n in range(1,m+1):\n",
        "        a=m*m-n*n\n",
        "        b=2*m*n\n",
        "        c=m*m+n*n\n",
        "        if(c>limit):\n",
        "            break\n",
        "        if(a==0 or b==0 or c==0):\n",
        "            break\n",
        "        print(a,b,c)\n",
        "    m=m+1"
      ],
      "execution_count": null,
      "outputs": [
        {
          "output_type": "stream",
          "text": [
            "12)Pythagorean Triplet\n",
            "Enter upper limit:15\n",
            "3 4 5\n",
            "8 6 10\n",
            "5 12 13\n"
          ],
          "name": "stdout"
        }
      ]
    },
    {
      "cell_type": "code",
      "metadata": {
        "colab": {
          "base_uri": "https://localhost:8080/"
        },
        "id": "mn7AQWtDbH1y",
        "outputId": "3dc5ba71-dc74-433b-9737-057e56622933"
      },
      "source": [
        "# Python3 code implementing the \n",
        "# given approach \n",
        "\n",
        "def findOnBulbs(numberOfBulbs): \n",
        "\n",
        "\t# initializing the result \n",
        "\tonBulbs = 0\n",
        "\t\n",
        "\t# to loop over all bulbs from \n",
        "\t# 1 to numberOfBulbs \n",
        "\tbulb = 1\n",
        "\t\n",
        "\t# to loop over persons to check \n",
        "\t# whether their person number \n",
        "\tperson = 1\n",
        "\t\n",
        "\t# Is a factor of light bulb number or not \n",
        "\tfor bulb in range(1, numberOfBulbs + 1): \n",
        "\t\t\n",
        "\t\t# inner loop to find factors of \n",
        "\t\t# given bulb to count the number \n",
        "\t\t# of factors of a given bulb \n",
        "\t\tfactors = 0\n",
        "\t\t\n",
        "\t\tfor person in range(1, int(numberOfBulbs**(0.5)) + 1): \n",
        "\t\t\tif bulb % person == 0: # person is a factor \n",
        "\t\t\t\tfactors += 1\n",
        "\t\t\t\t\n",
        "\t\t\t\t# bulb != person*person \n",
        "\t\t\t\tif bulb // person != person: \n",
        "\t\t\t\t\tfactors += 1\n",
        "\t\t\t\t\n",
        "\t\t# if number of factors is odd, then the \n",
        "\t\tif factors % 2 == 1: \n",
        "\t\t\n",
        "\t\t\t# light bulb will be \"on\" in the end \n",
        "\t\t\tprint(\"Light bulb\", bulb, \"will be on\") \n",
        "\t\t\tonBulbs += 1\n",
        "\t\t\n",
        "\treturn onBulbs \n",
        "\n",
        "# Driver Code \n",
        "if __name__ == \"__main__\": \n",
        "\n",
        "\t# total number of light bulbs \n",
        "\tnumberOfBulbs = 1000\n",
        "\t\n",
        "\t# to find number of on bulbs in \n",
        "\t# the end after all persons have \n",
        "\t# flipped the light bulbs \n",
        "\tonBulbs = findOnBulbs(numberOfBulbs) \n",
        "\t\n",
        "\tprint(\"Total\", onBulbs, \"light bulbs will\", \n",
        "\t\t\t\t\t\"be on in the end out of\", \n",
        "\t\t\t\tnumberOfBulbs, \"light bulbs\") \n",
        "\t\n",
        "# This code is contributed \n",
        "# by Rituraj Jain \n"
      ],
      "execution_count": null,
      "outputs": [
        {
          "output_type": "stream",
          "text": [
            "Light bulb 1 will be on\n",
            "Light bulb 4 will be on\n",
            "Light bulb 9 will be on\n",
            "Light bulb 16 will be on\n",
            "Light bulb 25 will be on\n",
            "Light bulb 36 will be on\n",
            "Light bulb 49 will be on\n",
            "Light bulb 64 will be on\n",
            "Light bulb 81 will be on\n",
            "Light bulb 100 will be on\n",
            "Light bulb 121 will be on\n",
            "Light bulb 144 will be on\n",
            "Light bulb 169 will be on\n",
            "Light bulb 196 will be on\n",
            "Light bulb 225 will be on\n",
            "Light bulb 256 will be on\n",
            "Light bulb 289 will be on\n",
            "Light bulb 324 will be on\n",
            "Light bulb 361 will be on\n",
            "Light bulb 400 will be on\n",
            "Light bulb 441 will be on\n",
            "Light bulb 484 will be on\n",
            "Light bulb 529 will be on\n",
            "Light bulb 576 will be on\n",
            "Light bulb 625 will be on\n",
            "Light bulb 676 will be on\n",
            "Light bulb 729 will be on\n",
            "Light bulb 784 will be on\n",
            "Light bulb 841 will be on\n",
            "Light bulb 900 will be on\n",
            "Light bulb 961 will be on\n",
            "Total 31 light bulbs will be on in the end out of 1000 light bulbs\n"
          ],
          "name": "stdout"
        }
      ]
    },
    {
      "cell_type": "code",
      "metadata": {
        "id": "ZGU0Pf1bcgPJ"
      },
      "source": [
        ""
      ],
      "execution_count": null,
      "outputs": []
    }
  ]
}